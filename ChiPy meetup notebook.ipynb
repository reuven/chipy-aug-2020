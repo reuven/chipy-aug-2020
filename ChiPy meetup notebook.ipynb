{
 "cells": [
  {
   "cell_type": "markdown",
   "metadata": {},
   "source": [
    "# Reuven Lerner, \"How to sort anything\"  \n",
    "\n",
    "Follow along at https://github.com/reuven/chipy-aug-2020\n",
    "\n",
    "Some info: \n",
    "- My site: https://lerner.co.il\n",
    "- Twitter: https://twitter.com/reuvenmlerner\n",
    "- YouTube: https://youtube.com/reuvenlerner\n",
    "\n",
    "- My book, \"Python Workout\": https://PythonWorkout.com/\n",
    "\n"
   ]
  },
  {
   "cell_type": "code",
   "execution_count": 1,
   "metadata": {},
   "outputs": [
    {
     "data": {
      "text/plain": [
       "[3, 4, 7, 10, 12, 13, 15]"
      ]
     },
     "execution_count": 1,
     "metadata": {},
     "output_type": "execute_result"
    }
   ],
   "source": [
    "numbers = [10, 3, 4, 7, 12, 15, 13]\n",
    "numbers.sort()\n",
    "\n",
    "numbers"
   ]
  },
  {
   "cell_type": "code",
   "execution_count": 2,
   "metadata": {},
   "outputs": [
    {
     "data": {
      "text/plain": [
       "[3, 4, 7, 10, 12, 13, 15]"
      ]
     },
     "execution_count": 2,
     "metadata": {},
     "output_type": "execute_result"
    }
   ],
   "source": [
    "numbers = [10, 3, 4, 7, 12, 15, 13]\n",
    "x = numbers\n",
    "\n",
    "numbers.sort()\n",
    "numbers"
   ]
  },
  {
   "cell_type": "code",
   "execution_count": 3,
   "metadata": {},
   "outputs": [
    {
     "data": {
      "text/plain": [
       "[3, 4, 7, 10, 12, 13, 15]"
      ]
     },
     "execution_count": 3,
     "metadata": {},
     "output_type": "execute_result"
    }
   ],
   "source": [
    "x"
   ]
  },
  {
   "cell_type": "code",
   "execution_count": 4,
   "metadata": {},
   "outputs": [],
   "source": [
    "numbers = numbers.sort()   # Don't do this!\n"
   ]
  },
  {
   "cell_type": "code",
   "execution_count": 5,
   "metadata": {},
   "outputs": [
    {
     "name": "stdout",
     "output_type": "stream",
     "text": [
      "None\n"
     ]
    }
   ],
   "source": [
    "print(numbers)"
   ]
  },
  {
   "cell_type": "code",
   "execution_count": 6,
   "metadata": {},
   "outputs": [
    {
     "data": {
      "text/plain": [
       "[3, 4, 7, 10, 12, 13, 15]"
      ]
     },
     "execution_count": 6,
     "metadata": {},
     "output_type": "execute_result"
    }
   ],
   "source": [
    "numbers = [10, 3, 4, 7, 12, 15, 13]\n",
    "sorted(numbers)"
   ]
  },
  {
   "cell_type": "code",
   "execution_count": 7,
   "metadata": {},
   "outputs": [
    {
     "data": {
      "text/plain": [
       "[3, 4, 7, 10, 12, 13, 15]"
      ]
     },
     "execution_count": 7,
     "metadata": {},
     "output_type": "execute_result"
    }
   ],
   "source": [
    "x = sorted(numbers)\n",
    "x"
   ]
  },
  {
   "cell_type": "code",
   "execution_count": 8,
   "metadata": {},
   "outputs": [
    {
     "data": {
      "text/plain": [
       "[10, 3, 4, 7, 12, 15, 13]"
      ]
     },
     "execution_count": 8,
     "metadata": {},
     "output_type": "execute_result"
    }
   ],
   "source": [
    "numbers"
   ]
  },
  {
   "cell_type": "code",
   "execution_count": 9,
   "metadata": {},
   "outputs": [],
   "source": [
    "# Tim ... Timsort!"
   ]
  },
  {
   "cell_type": "code",
   "execution_count": 10,
   "metadata": {},
   "outputs": [],
   "source": [
    "# < == >"
   ]
  },
  {
   "cell_type": "code",
   "execution_count": 11,
   "metadata": {},
   "outputs": [
    {
     "data": {
      "text/plain": [
       "['this', 'is', 'a', 'bunch', 'of', 'words', 'for', 'my', 'talk']"
      ]
     },
     "execution_count": 11,
     "metadata": {},
     "output_type": "execute_result"
    }
   ],
   "source": [
    "words = 'this is a bunch of words for my talk'.split()\n",
    "\n",
    "words"
   ]
  },
  {
   "cell_type": "code",
   "execution_count": 12,
   "metadata": {},
   "outputs": [
    {
     "data": {
      "text/plain": [
       "['a', 'bunch', 'for', 'is', 'my', 'of', 'talk', 'this', 'words']"
      ]
     },
     "execution_count": 12,
     "metadata": {},
     "output_type": "execute_result"
    }
   ],
   "source": [
    "sorted(words)"
   ]
  },
  {
   "cell_type": "code",
   "execution_count": 13,
   "metadata": {},
   "outputs": [
    {
     "data": {
      "text/plain": [
       "False"
      ]
     },
     "execution_count": 13,
     "metadata": {},
     "output_type": "execute_result"
    }
   ],
   "source": [
    "# in order to sort, we need to compare two words\n",
    "\n",
    "# compare worda[0] and wordb[0]\n",
    "# which comes first?\n",
    "\n",
    "# if they're the same, then check  worda[0] and wordb[1]\n",
    "\n",
    "'this' < 'that'"
   ]
  },
  {
   "cell_type": "code",
   "execution_count": 14,
   "metadata": {},
   "outputs": [
    {
     "data": {
      "text/plain": [
       "True"
      ]
     },
     "execution_count": 14,
     "metadata": {},
     "output_type": "execute_result"
    }
   ],
   "source": [
    "'that' < 'this'"
   ]
  },
  {
   "cell_type": "code",
   "execution_count": 15,
   "metadata": {},
   "outputs": [],
   "source": [
    "# list of lists?  compare lista[0] with listb[0], then lista[1] with listb[1]"
   ]
  },
  {
   "cell_type": "code",
   "execution_count": 17,
   "metadata": {},
   "outputs": [
    {
     "data": {
      "text/plain": [
       "[[0, 1, 1], [1, 1, 1], [1, 3, 5], [2, 1, 2], [2, 1, 3], [2, 3, 5], [2, 4, 6]]"
      ]
     },
     "execution_count": 17,
     "metadata": {},
     "output_type": "execute_result"
    }
   ],
   "source": [
    "mylist = [[2,4,6], [2,3,5], [1,3,5], [2,1,2], [1,1,1], [0, 1, 1], [2,1,3]]\n",
    "\n",
    "sorted(mylist)"
   ]
  },
  {
   "cell_type": "code",
   "execution_count": 18,
   "metadata": {},
   "outputs": [
    {
     "data": {
      "text/plain": [
       "['words', 'this', 'talk', 'of', 'my', 'is', 'for', 'bunch', 'a']"
      ]
     },
     "execution_count": 18,
     "metadata": {},
     "output_type": "execute_result"
    }
   ],
   "source": [
    "sorted(words, reverse=True)"
   ]
  },
  {
   "cell_type": "code",
   "execution_count": 19,
   "metadata": {},
   "outputs": [
    {
     "data": {
      "text/plain": [
       "['this', 'is', 'a', 'bunch', 'of', 'words', 'for', 'my', 'talk']"
      ]
     },
     "execution_count": 19,
     "metadata": {},
     "output_type": "execute_result"
    }
   ],
   "source": [
    "words"
   ]
  },
  {
   "cell_type": "code",
   "execution_count": 20,
   "metadata": {},
   "outputs": [
    {
     "data": {
      "text/plain": [
       "['a', 'is', 'of', 'my', 'for', 'this', 'talk', 'bunch', 'words']"
      ]
     },
     "execution_count": 20,
     "metadata": {},
     "output_type": "execute_result"
    }
   ],
   "source": [
    "# I want to sort them by word length\n",
    "\n",
    "# Timsort is normally sorting A vs. B\n",
    "# but now we want to sort len(A) vs. len(B)\n",
    "\n",
    "sorted(words, key=len)"
   ]
  },
  {
   "cell_type": "code",
   "execution_count": 21,
   "metadata": {},
   "outputs": [
    {
     "data": {
      "text/plain": [
       "['bunch', 'words', 'this', 'talk', 'for', 'is', 'of', 'my', 'a']"
      ]
     },
     "execution_count": 21,
     "metadata": {},
     "output_type": "execute_result"
    }
   ],
   "source": [
    "sorted(words, key=len, reverse=True)"
   ]
  },
  {
   "cell_type": "code",
   "execution_count": 22,
   "metadata": {},
   "outputs": [
    {
     "data": {
      "text/plain": [
       "5"
      ]
     },
     "execution_count": 22,
     "metadata": {},
     "output_type": "execute_result"
    }
   ],
   "source": [
    "# sort numbers by absolute value\n",
    "\n",
    "abs(-5)"
   ]
  },
  {
   "cell_type": "code",
   "execution_count": 23,
   "metadata": {},
   "outputs": [
    {
     "data": {
      "text/plain": [
       "5"
      ]
     },
     "execution_count": 23,
     "metadata": {},
     "output_type": "execute_result"
    }
   ],
   "source": [
    "abs(5)"
   ]
  },
  {
   "cell_type": "code",
   "execution_count": 24,
   "metadata": {},
   "outputs": [
    {
     "data": {
      "text/plain": [
       "[-10, -5, -1, 2, 3, 4, 8]"
      ]
     },
     "execution_count": 24,
     "metadata": {},
     "output_type": "execute_result"
    }
   ],
   "source": [
    "numbers = [-5, 3, 2, -10, 8, -1, 4]\n",
    "sorted(numbers)"
   ]
  },
  {
   "cell_type": "code",
   "execution_count": 25,
   "metadata": {},
   "outputs": [
    {
     "data": {
      "text/plain": [
       "[-1, 2, 3, 4, -5, 8, -10]"
      ]
     },
     "execution_count": 25,
     "metadata": {},
     "output_type": "execute_result"
    }
   ],
   "source": [
    "sorted(numbers, key=abs)"
   ]
  },
  {
   "cell_type": "code",
   "execution_count": 26,
   "metadata": {},
   "outputs": [
    {
     "data": {
      "text/plain": [
       "['ChiPy', 'Python', 'This', 'a', 'for', 'for', 'is', 'my', 'talk', 'test']"
      ]
     },
     "execution_count": 26,
     "metadata": {},
     "output_type": "execute_result"
    }
   ],
   "source": [
    "words = 'This is a test for my Python talk for ChiPy'.split()\n",
    "sorted(words)"
   ]
  },
  {
   "cell_type": "code",
   "execution_count": 27,
   "metadata": {},
   "outputs": [
    {
     "data": {
      "text/plain": [
       "['a', 'ChiPy', 'for', 'for', 'is', 'my', 'Python', 'talk', 'test', 'This']"
      ]
     },
     "execution_count": 27,
     "metadata": {},
     "output_type": "execute_result"
    }
   ],
   "source": [
    "#if we want a case-insensitive sort, we can run a function (method) on each word\n",
    "\n",
    "sorted(words, key=str.lower)"
   ]
  },
  {
   "cell_type": "code",
   "execution_count": 29,
   "metadata": {},
   "outputs": [
    {
     "data": {
      "text/plain": [
       "['a', 'chipy', 'for', 'for', 'is', 'my', 'python', 'talk', 'test', 'this']"
      ]
     },
     "execution_count": 29,
     "metadata": {},
     "output_type": "execute_result"
    }
   ],
   "source": [
    "sorted([one_word.lower()\n",
    "        for one_word in words])"
   ]
  },
  {
   "cell_type": "code",
   "execution_count": 30,
   "metadata": {},
   "outputs": [
    {
     "ename": "TypeError",
     "evalue": "descriptor 'lower' of 'str' object needs an argument",
     "output_type": "error",
     "traceback": [
      "\u001b[0;31m---------------------------------------------------------------------------\u001b[0m",
      "\u001b[0;31mTypeError\u001b[0m                                 Traceback (most recent call last)",
      "\u001b[0;32m<ipython-input-30-16cbacc6b49e>\u001b[0m in \u001b[0;36m<module>\u001b[0;34m\u001b[0m\n\u001b[0;32m----> 1\u001b[0;31m \u001b[0msorted\u001b[0m\u001b[0;34m(\u001b[0m\u001b[0mwords\u001b[0m\u001b[0;34m,\u001b[0m \u001b[0mkey\u001b[0m\u001b[0;34m=\u001b[0m\u001b[0mstr\u001b[0m\u001b[0;34m.\u001b[0m\u001b[0mlower\u001b[0m\u001b[0;34m(\u001b[0m\u001b[0;34m)\u001b[0m \u001b[0;34m)\u001b[0m   \u001b[0;31m# don't do this!\u001b[0m\u001b[0;34m\u001b[0m\u001b[0;34m\u001b[0m\u001b[0m\n\u001b[0m",
      "\u001b[0;31mTypeError\u001b[0m: descriptor 'lower' of 'str' object needs an argument"
     ]
    }
   ],
   "source": [
    "sorted(words, key=str.lower() )   # don't do this!"
   ]
  },
  {
   "cell_type": "code",
   "execution_count": 31,
   "metadata": {},
   "outputs": [
    {
     "name": "stdout",
     "output_type": "stream",
     "text": [
      "Now sorting This\n",
      "Now sorting is\n",
      "Now sorting a\n",
      "Now sorting test\n",
      "Now sorting for\n",
      "Now sorting my\n",
      "Now sorting Python\n",
      "Now sorting talk\n",
      "Now sorting for\n",
      "Now sorting ChiPy\n"
     ]
    },
    {
     "data": {
      "text/plain": [
       "['a', 'is', 'my', 'for', 'for', 'This', 'test', 'talk', 'ChiPy', 'Python']"
      ]
     },
     "execution_count": 31,
     "metadata": {},
     "output_type": "execute_result"
    }
   ],
   "source": [
    "def by_loud_len(one_word):\n",
    "    print(f'Now sorting {one_word}')\n",
    "    return len(one_word)\n",
    "\n",
    "sorted(words, key=by_loud_len)"
   ]
  },
  {
   "cell_type": "code",
   "execution_count": 32,
   "metadata": {},
   "outputs": [
    {
     "data": {
      "text/plain": [
       "[4, 6, 10, 50, 80, 200, 300]"
      ]
     },
     "execution_count": 32,
     "metadata": {},
     "output_type": "execute_result"
    }
   ],
   "source": [
    "numbers = [300, 200, 10, 50, 4, 80, 6]\n",
    "sorted(numbers)"
   ]
  },
  {
   "cell_type": "code",
   "execution_count": 33,
   "metadata": {},
   "outputs": [
    {
     "data": {
      "text/plain": [
       "[4, 6, 10, 50, 80, 300, 200]"
      ]
     },
     "execution_count": 33,
     "metadata": {},
     "output_type": "execute_result"
    }
   ],
   "source": [
    "# I want to sort the numbers by their lengths (i.e., number of digits)\n",
    "\n",
    "def by_digit_count(one_number):\n",
    "    return len(str(one_number))\n",
    "\n",
    "sorted(numbers, key=by_digit_count)"
   ]
  },
  {
   "cell_type": "code",
   "execution_count": 34,
   "metadata": {},
   "outputs": [],
   "source": [
    "# Timsort is a stable sort -- if two elements have the same sort value, they\n",
    "# remain in their original order"
   ]
  },
  {
   "cell_type": "code",
   "execution_count": 35,
   "metadata": {},
   "outputs": [
    {
     "data": {
      "text/plain": [
       "[[2, 4, 6], [2, 3, 5], [1, 3, 5], [2, 1, 2], [1, 1, 1], [0, 1, 1], [2, 1, 3]]"
      ]
     },
     "execution_count": 35,
     "metadata": {},
     "output_type": "execute_result"
    }
   ],
   "source": [
    "mylist"
   ]
  },
  {
   "cell_type": "code",
   "execution_count": 36,
   "metadata": {},
   "outputs": [
    {
     "data": {
      "text/plain": [
       "[[0, 1, 1], [1, 1, 1], [2, 1, 2], [2, 1, 3], [1, 3, 5], [2, 3, 5], [2, 4, 6]]"
      ]
     },
     "execution_count": 36,
     "metadata": {},
     "output_type": "execute_result"
    }
   ],
   "source": [
    "# sort mylist's elements by their means\n",
    "\n",
    "def by_mean(one_list):\n",
    "    return sum(one_list) / len(one_list)\n",
    "\n",
    "sorted(mylist, key=by_mean)"
   ]
  },
  {
   "cell_type": "code",
   "execution_count": 37,
   "metadata": {},
   "outputs": [
    {
     "data": {
      "text/plain": [
       "[[0, 1, 1], [1, 1, 1], [1, 3, 5], [2, 1, 2], [2, 1, 3], [2, 3, 5], [2, 4, 6]]"
      ]
     },
     "execution_count": 37,
     "metadata": {},
     "output_type": "execute_result"
    }
   ],
   "source": [
    "sorted(mylist)"
   ]
  },
  {
   "cell_type": "code",
   "execution_count": 38,
   "metadata": {},
   "outputs": [],
   "source": [
    "# sort words by their vowel counts\n",
    "\n",
    "def by_vowel_count(one_word):\n",
    "    count = 0\n",
    "    for one_letter in one_word.lower():\n",
    "        if one_letter in 'aeiou':\n",
    "            count += 1\n",
    "    return count"
   ]
  },
  {
   "cell_type": "code",
   "execution_count": 39,
   "metadata": {},
   "outputs": [
    {
     "data": {
      "text/plain": [
       "3"
      ]
     },
     "execution_count": 39,
     "metadata": {},
     "output_type": "execute_result"
    }
   ],
   "source": [
    "by_vowel_count('elephant')"
   ]
  },
  {
   "cell_type": "code",
   "execution_count": 40,
   "metadata": {},
   "outputs": [],
   "source": [
    "words = 'this is a ridiculous but useful example of vowel counts for my python talk experience'.split()"
   ]
  },
  {
   "cell_type": "code",
   "execution_count": 41,
   "metadata": {},
   "outputs": [
    {
     "data": {
      "text/plain": [
       "['my',\n",
       " 'this',\n",
       " 'is',\n",
       " 'a',\n",
       " 'but',\n",
       " 'of',\n",
       " 'for',\n",
       " 'python',\n",
       " 'talk',\n",
       " 'vowel',\n",
       " 'counts',\n",
       " 'useful',\n",
       " 'example',\n",
       " 'ridiculous',\n",
       " 'experience']"
      ]
     },
     "execution_count": 41,
     "metadata": {},
     "output_type": "execute_result"
    }
   ],
   "source": [
    "sorted(words, key=by_vowel_count)"
   ]
  },
  {
   "cell_type": "code",
   "execution_count": 43,
   "metadata": {},
   "outputs": [
    {
     "data": {
      "text/plain": [
       "['/etc/emond.d',\n",
       " '/etc/xinetd.d-migrated2launchd',\n",
       " '/etc/ssh_config.system_default',\n",
       " '/etc/ssh_config.applesaved',\n",
       " '/etc/periodic',\n",
       " '/etc/manpaths',\n",
       " '/etc/services~previous',\n",
       " '/etc/rc.common',\n",
       " '/etc/csh.logout~orig',\n",
       " '/etc/auto_master',\n",
       " '/etc/php.ini.default-5.2-previous~orig',\n",
       " '/etc/csh.login',\n",
       " '/etc/syslog.conf',\n",
       " '/etc/rtadvd.conf~previous',\n",
       " '/etc/syslog.conf~previous',\n",
       " '/etc/krb5.keytab',\n",
       " '/etc/sudoers.d',\n",
       " '/etc/bash_completion.d',\n",
       " '/etc/ssl',\n",
       " '/etc/kern_loader.conf.applesaved',\n",
       " '/etc/nanorc',\n",
       " '/etc/ttys~previous',\n",
       " '/etc/csh.logout',\n",
       " '/etc/aliases.db',\n",
       " '/etc/hosts.lpd',\n",
       " '/etc/bashrc_Apple_Terminal',\n",
       " '/etc/racoon',\n",
       " '/etc/snmp',\n",
       " '/etc/zshrc_Apple_Terminal',\n",
       " '/etc/named.conf.applesaved',\n",
       " '/etc/gettytab',\n",
       " '/etc/master.passwd~orig',\n",
       " '/etc/kern_loader.conf',\n",
       " '/etc/authorization.user_modified',\n",
       " '/etc/networks~orig',\n",
       " '/etc/paths.d',\n",
       " '/etc/asl',\n",
       " '/etc/csh.login~orig',\n",
       " '/etc/rtadvd.conf',\n",
       " '/etc/security',\n",
       " '/etc/protocols~previous',\n",
       " '/etc/group',\n",
       " '/etc/printcap',\n",
       " '/etc/auto_home',\n",
       " '/etc/php.ini.default-previous',\n",
       " '/etc/sudoers~',\n",
       " '/etc/manpaths.d',\n",
       " '/etc/smb.conf.applesaved',\n",
       " '/etc/ppp',\n",
       " '/etc/shells',\n",
       " '/etc/pear.conf-previous',\n",
       " '/etc/crontab',\n",
       " '/etc/slpsa.conf.applesaved',\n",
       " '/etc/rc.common~previous',\n",
       " '/etc/xinetd.d',\n",
       " '/etc/ttys',\n",
       " '/etc/php-fpm.d',\n",
       " '/etc/group~previous',\n",
       " '/etc/php-fpm.conf.default',\n",
       " '/etc/paths',\n",
       " '/etc/rmtab',\n",
       " '/etc/csh.cshrc~orig',\n",
       " '/etc/inetd.conf.applesaved',\n",
       " '/etc/xtab',\n",
       " '/etc/php.ini.default',\n",
       " '/etc/syslog.conf.applesaved',\n",
       " '/etc/localtime',\n",
       " '/etc/pf.conf',\n",
       " '/etc/6to4.conf.applesaved',\n",
       " '/etc/CiscoSystemsVPNClient',\n",
       " '/etc/launchd.conf',\n",
       " '/etc/sudoers',\n",
       " '/etc/ftpusers~orig',\n",
       " '/etc/bashrc',\n",
       " '/etc/find.codes~orig',\n",
       " '/etc/auto_master~orig',\n",
       " '/etc/newsyslog.d',\n",
       " '/etc/emacs',\n",
       " '/etc/irbrc',\n",
       " '/etc/pam.d',\n",
       " '/etc/zshrc',\n",
       " '/etc/defaults',\n",
       " '/etc/hosts.equiv',\n",
       " '/etc/networks',\n",
       " '/etc/find.codes',\n",
       " '/etc/rpc~previous',\n",
       " '/etc/apache2',\n",
       " '/etc/autofs.conf',\n",
       " '/etc/ssh',\n",
       " '/etc/ftpusers',\n",
       " '/etc/postgres-reg.ini',\n",
       " '/etc/slpsa.conf',\n",
       " '/etc/profile',\n",
       " '/etc/csh.cshrc',\n",
       " '/etc/fstab.hd~previous',\n",
       " '/etc/ntp.conf.applesaved',\n",
       " '/etc/ntp_opendirectory.conf',\n",
       " '/etc/ssh_config~orig',\n",
       " '/etc/profile~orig',\n",
       " '/etc/authorization.deprecated',\n",
       " '/etc/locate.rc',\n",
       " '/etc/resolv.conf',\n",
       " '/etc/nfs.conf',\n",
       " '/etc/crontab.applesaved',\n",
       " '/etc/dictionaries-common',\n",
       " '/etc/sudoers~orig',\n",
       " '/etc/sudo_lecture',\n",
       " '/etc/asl.conf',\n",
       " '/etc/ttys.applesaved',\n",
       " '/etc/moduli~previous',\n",
       " '/etc/rc.netboot',\n",
       " '/etc/X11',\n",
       " '/etc/afpovertcp.cfg~orig',\n",
       " '/etc/hosts~orig',\n",
       " '/etc/fstab',\n",
       " '/etc/opt',\n",
       " '/etc/nfs.conf~orig',\n",
       " '/etc/hostconfig',\n",
       " '/etc/smb.conf.old',\n",
       " '/etc/kern_loader.conf~previous',\n",
       " '/etc/xinetd.conf.applesaved',\n",
       " '/etc/rtadvd.conf.applesaved',\n",
       " '/etc/sshd_config.system_default',\n",
       " '/etc/hosts',\n",
       " '/etc/efax.rc~previous',\n",
       " '/etc/postfix',\n",
       " '/etc/pf.os',\n",
       " '/etc/pf.anchors',\n",
       " '/etc/php.ini.default-previous~orig',\n",
       " '/etc/ntp.conf',\n",
       " '/etc/php.ini.default-5.2-previous',\n",
       " '/etc/gettytab~orig',\n",
       " '/etc/passwd~orig',\n",
       " '/etc/rpc',\n",
       " '/etc/master.passwd',\n",
       " '/etc/sshd_config~previous',\n",
       " '/etc/fstab.hd',\n",
       " '/etc/openldap',\n",
       " '/etc/aliases',\n",
       " '/etc/paths~orig',\n",
       " '/etc/fonts',\n",
       " '/etc/openssl',\n",
       " '/etc/com.apple.screensharing.agent.launchd',\n",
       " '/etc/wfs',\n",
       " '/etc/hostconfig.system_default',\n",
       " '/etc/shells~orig',\n",
       " '/etc/sshd_config.applesaved',\n",
       " '/etc/dumpdates',\n",
       " '/etc/protocols',\n",
       " '/etc/AFP.conf',\n",
       " '/etc/cups',\n",
       " '/etc/man.conf',\n",
       " '/etc/services',\n",
       " '/etc/mail.rc~orig',\n",
       " '/etc/resolver',\n",
       " '/etc/passwd',\n",
       " '/etc/zprofile',\n",
       " '/etc/afpovertcp.cfg',\n",
       " '/etc/newsyslog.conf',\n",
       " '/etc/bashrc~previous',\n",
       " '/etc/mail.rc',\n",
       " '/etc/notify.conf',\n",
       " '/etc/sysctl.conf.pg']"
      ]
     },
     "execution_count": 43,
     "metadata": {},
     "output_type": "execute_result"
    }
   ],
   "source": [
    "# sort filenames in a directory listing by file size\n",
    "\n",
    "import glob\n",
    "import os.path\n",
    "\n",
    "glob."
   ]
  },
  {
   "cell_type": "code",
   "execution_count": null,
   "metadata": {},
   "outputs": [],
   "source": []
  }
 ],
 "metadata": {
  "kernelspec": {
   "display_name": "Python 3",
   "language": "python",
   "name": "python3"
  },
  "language_info": {
   "codemirror_mode": {
    "name": "ipython",
    "version": 3
   },
   "file_extension": ".py",
   "mimetype": "text/x-python",
   "name": "python",
   "nbconvert_exporter": "python",
   "pygments_lexer": "ipython3",
   "version": "3.8.5"
  }
 },
 "nbformat": 4,
 "nbformat_minor": 4
}
