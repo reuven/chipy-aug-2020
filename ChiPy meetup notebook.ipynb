{
 "cells": [
  {
   "cell_type": "markdown",
   "metadata": {},
   "source": [
    "# Reuven Lerner, \"How to sort anything\"  \n",
    "\n",
    "Follow along at https://github.com/reuven/chipy-aug-2020\n",
    "\n",
    "Some info: \n",
    "- My site: https://lerner.co.il\n",
    "- Twitter: https://twitter.com/reuvenmlerner\n",
    "- YouTube: https://youtube.com/reuvenlerner\n",
    "\n",
    "- My book, \"Python Workout\": https://PythonWorkout.com/\n",
    "\n"
   ]
  },
  {
   "cell_type": "code",
   "execution_count": 1,
   "metadata": {},
   "outputs": [
    {
     "data": {
      "text/plain": [
       "[3, 4, 7, 10, 12, 13, 15]"
      ]
     },
     "execution_count": 1,
     "metadata": {},
     "output_type": "execute_result"
    }
   ],
   "source": [
    "numbers = [10, 3, 4, 7, 12, 15, 13]\n",
    "numbers.sort()\n",
    "\n",
    "numbers"
   ]
  },
  {
   "cell_type": "code",
   "execution_count": 2,
   "metadata": {},
   "outputs": [
    {
     "data": {
      "text/plain": [
       "[3, 4, 7, 10, 12, 13, 15]"
      ]
     },
     "execution_count": 2,
     "metadata": {},
     "output_type": "execute_result"
    }
   ],
   "source": [
    "numbers = [10, 3, 4, 7, 12, 15, 13]\n",
    "x = numbers\n",
    "\n",
    "numbers.sort()\n",
    "numbers"
   ]
  },
  {
   "cell_type": "code",
   "execution_count": 3,
   "metadata": {},
   "outputs": [
    {
     "data": {
      "text/plain": [
       "[3, 4, 7, 10, 12, 13, 15]"
      ]
     },
     "execution_count": 3,
     "metadata": {},
     "output_type": "execute_result"
    }
   ],
   "source": [
    "x"
   ]
  },
  {
   "cell_type": "code",
   "execution_count": 4,
   "metadata": {},
   "outputs": [],
   "source": [
    "numbers = numbers.sort()   # Don't do this!\n"
   ]
  },
  {
   "cell_type": "code",
   "execution_count": 5,
   "metadata": {},
   "outputs": [
    {
     "name": "stdout",
     "output_type": "stream",
     "text": [
      "None\n"
     ]
    }
   ],
   "source": [
    "print(numbers)"
   ]
  },
  {
   "cell_type": "code",
   "execution_count": 6,
   "metadata": {},
   "outputs": [
    {
     "data": {
      "text/plain": [
       "[3, 4, 7, 10, 12, 13, 15]"
      ]
     },
     "execution_count": 6,
     "metadata": {},
     "output_type": "execute_result"
    }
   ],
   "source": [
    "numbers = [10, 3, 4, 7, 12, 15, 13]\n",
    "sorted(numbers)"
   ]
  },
  {
   "cell_type": "code",
   "execution_count": 7,
   "metadata": {},
   "outputs": [
    {
     "data": {
      "text/plain": [
       "[3, 4, 7, 10, 12, 13, 15]"
      ]
     },
     "execution_count": 7,
     "metadata": {},
     "output_type": "execute_result"
    }
   ],
   "source": [
    "x = sorted(numbers)\n",
    "x"
   ]
  },
  {
   "cell_type": "code",
   "execution_count": 8,
   "metadata": {},
   "outputs": [
    {
     "data": {
      "text/plain": [
       "[10, 3, 4, 7, 12, 15, 13]"
      ]
     },
     "execution_count": 8,
     "metadata": {},
     "output_type": "execute_result"
    }
   ],
   "source": [
    "numbers"
   ]
  },
  {
   "cell_type": "code",
   "execution_count": 9,
   "metadata": {},
   "outputs": [],
   "source": [
    "# Tim ... Timsort!"
   ]
  },
  {
   "cell_type": "code",
   "execution_count": 10,
   "metadata": {},
   "outputs": [],
   "source": [
    "# < == >"
   ]
  },
  {
   "cell_type": "code",
   "execution_count": 11,
   "metadata": {},
   "outputs": [
    {
     "data": {
      "text/plain": [
       "['this', 'is', 'a', 'bunch', 'of', 'words', 'for', 'my', 'talk']"
      ]
     },
     "execution_count": 11,
     "metadata": {},
     "output_type": "execute_result"
    }
   ],
   "source": [
    "words = 'this is a bunch of words for my talk'.split()\n",
    "\n",
    "words"
   ]
  },
  {
   "cell_type": "code",
   "execution_count": 12,
   "metadata": {},
   "outputs": [
    {
     "data": {
      "text/plain": [
       "['a', 'bunch', 'for', 'is', 'my', 'of', 'talk', 'this', 'words']"
      ]
     },
     "execution_count": 12,
     "metadata": {},
     "output_type": "execute_result"
    }
   ],
   "source": [
    "sorted(words)"
   ]
  },
  {
   "cell_type": "code",
   "execution_count": 13,
   "metadata": {},
   "outputs": [
    {
     "data": {
      "text/plain": [
       "False"
      ]
     },
     "execution_count": 13,
     "metadata": {},
     "output_type": "execute_result"
    }
   ],
   "source": [
    "# in order to sort, we need to compare two words\n",
    "\n",
    "# compare worda[0] and wordb[0]\n",
    "# which comes first?\n",
    "\n",
    "# if they're the same, then check  worda[0] and wordb[1]\n",
    "\n",
    "'this' < 'that'"
   ]
  },
  {
   "cell_type": "code",
   "execution_count": 14,
   "metadata": {},
   "outputs": [
    {
     "data": {
      "text/plain": [
       "True"
      ]
     },
     "execution_count": 14,
     "metadata": {},
     "output_type": "execute_result"
    }
   ],
   "source": [
    "'that' < 'this'"
   ]
  },
  {
   "cell_type": "code",
   "execution_count": 15,
   "metadata": {},
   "outputs": [],
   "source": [
    "# list of lists?  compare lista[0] with listb[0], then lista[1] with listb[1]"
   ]
  },
  {
   "cell_type": "code",
   "execution_count": 17,
   "metadata": {},
   "outputs": [
    {
     "data": {
      "text/plain": [
       "[[0, 1, 1], [1, 1, 1], [1, 3, 5], [2, 1, 2], [2, 1, 3], [2, 3, 5], [2, 4, 6]]"
      ]
     },
     "execution_count": 17,
     "metadata": {},
     "output_type": "execute_result"
    }
   ],
   "source": [
    "mylist = [[2,4,6], [2,3,5], [1,3,5], [2,1,2], [1,1,1], [0, 1, 1], [2,1,3]]\n",
    "\n",
    "sorted(mylist)"
   ]
  },
  {
   "cell_type": "code",
   "execution_count": 18,
   "metadata": {},
   "outputs": [
    {
     "data": {
      "text/plain": [
       "['words', 'this', 'talk', 'of', 'my', 'is', 'for', 'bunch', 'a']"
      ]
     },
     "execution_count": 18,
     "metadata": {},
     "output_type": "execute_result"
    }
   ],
   "source": [
    "sorted(words, reverse=True)"
   ]
  },
  {
   "cell_type": "code",
   "execution_count": 19,
   "metadata": {},
   "outputs": [
    {
     "data": {
      "text/plain": [
       "['this', 'is', 'a', 'bunch', 'of', 'words', 'for', 'my', 'talk']"
      ]
     },
     "execution_count": 19,
     "metadata": {},
     "output_type": "execute_result"
    }
   ],
   "source": [
    "words"
   ]
  },
  {
   "cell_type": "code",
   "execution_count": 20,
   "metadata": {},
   "outputs": [
    {
     "data": {
      "text/plain": [
       "['a', 'is', 'of', 'my', 'for', 'this', 'talk', 'bunch', 'words']"
      ]
     },
     "execution_count": 20,
     "metadata": {},
     "output_type": "execute_result"
    }
   ],
   "source": [
    "# I want to sort them by word length\n",
    "\n",
    "# Timsort is normally sorting A vs. B\n",
    "# but now we want to sort len(A) vs. len(B)\n",
    "\n",
    "sorted(words, key=len)"
   ]
  },
  {
   "cell_type": "code",
   "execution_count": 21,
   "metadata": {},
   "outputs": [
    {
     "data": {
      "text/plain": [
       "['bunch', 'words', 'this', 'talk', 'for', 'is', 'of', 'my', 'a']"
      ]
     },
     "execution_count": 21,
     "metadata": {},
     "output_type": "execute_result"
    }
   ],
   "source": [
    "sorted(words, key=len, reverse=True)"
   ]
  },
  {
   "cell_type": "code",
   "execution_count": 22,
   "metadata": {},
   "outputs": [
    {
     "data": {
      "text/plain": [
       "5"
      ]
     },
     "execution_count": 22,
     "metadata": {},
     "output_type": "execute_result"
    }
   ],
   "source": [
    "# sort numbers by absolute value\n",
    "\n",
    "abs(-5)"
   ]
  },
  {
   "cell_type": "code",
   "execution_count": 23,
   "metadata": {},
   "outputs": [
    {
     "data": {
      "text/plain": [
       "5"
      ]
     },
     "execution_count": 23,
     "metadata": {},
     "output_type": "execute_result"
    }
   ],
   "source": [
    "abs(5)"
   ]
  },
  {
   "cell_type": "code",
   "execution_count": 24,
   "metadata": {},
   "outputs": [
    {
     "data": {
      "text/plain": [
       "[-10, -5, -1, 2, 3, 4, 8]"
      ]
     },
     "execution_count": 24,
     "metadata": {},
     "output_type": "execute_result"
    }
   ],
   "source": [
    "numbers = [-5, 3, 2, -10, 8, -1, 4]\n",
    "sorted(numbers)"
   ]
  },
  {
   "cell_type": "code",
   "execution_count": 25,
   "metadata": {},
   "outputs": [
    {
     "data": {
      "text/plain": [
       "[-1, 2, 3, 4, -5, 8, -10]"
      ]
     },
     "execution_count": 25,
     "metadata": {},
     "output_type": "execute_result"
    }
   ],
   "source": [
    "sorted(numbers, key=abs)"
   ]
  },
  {
   "cell_type": "code",
   "execution_count": 26,
   "metadata": {},
   "outputs": [
    {
     "data": {
      "text/plain": [
       "['ChiPy', 'Python', 'This', 'a', 'for', 'for', 'is', 'my', 'talk', 'test']"
      ]
     },
     "execution_count": 26,
     "metadata": {},
     "output_type": "execute_result"
    }
   ],
   "source": [
    "words = 'This is a test for my Python talk for ChiPy'.split()\n",
    "sorted(words)"
   ]
  },
  {
   "cell_type": "code",
   "execution_count": 27,
   "metadata": {},
   "outputs": [
    {
     "data": {
      "text/plain": [
       "['a', 'ChiPy', 'for', 'for', 'is', 'my', 'Python', 'talk', 'test', 'This']"
      ]
     },
     "execution_count": 27,
     "metadata": {},
     "output_type": "execute_result"
    }
   ],
   "source": [
    "#if we want a case-insensitive sort, we can run a function (method) on each word\n",
    "\n",
    "sorted(words, key=str.lower)"
   ]
  },
  {
   "cell_type": "code",
   "execution_count": 29,
   "metadata": {},
   "outputs": [
    {
     "data": {
      "text/plain": [
       "['a', 'chipy', 'for', 'for', 'is', 'my', 'python', 'talk', 'test', 'this']"
      ]
     },
     "execution_count": 29,
     "metadata": {},
     "output_type": "execute_result"
    }
   ],
   "source": [
    "sorted([one_word.lower()\n",
    "        for one_word in words])"
   ]
  },
  {
   "cell_type": "code",
   "execution_count": 30,
   "metadata": {},
   "outputs": [
    {
     "ename": "TypeError",
     "evalue": "descriptor 'lower' of 'str' object needs an argument",
     "output_type": "error",
     "traceback": [
      "\u001b[0;31m---------------------------------------------------------------------------\u001b[0m",
      "\u001b[0;31mTypeError\u001b[0m                                 Traceback (most recent call last)",
      "\u001b[0;32m<ipython-input-30-16cbacc6b49e>\u001b[0m in \u001b[0;36m<module>\u001b[0;34m\u001b[0m\n\u001b[0;32m----> 1\u001b[0;31m \u001b[0msorted\u001b[0m\u001b[0;34m(\u001b[0m\u001b[0mwords\u001b[0m\u001b[0;34m,\u001b[0m \u001b[0mkey\u001b[0m\u001b[0;34m=\u001b[0m\u001b[0mstr\u001b[0m\u001b[0;34m.\u001b[0m\u001b[0mlower\u001b[0m\u001b[0;34m(\u001b[0m\u001b[0;34m)\u001b[0m \u001b[0;34m)\u001b[0m   \u001b[0;31m# don't do this!\u001b[0m\u001b[0;34m\u001b[0m\u001b[0;34m\u001b[0m\u001b[0m\n\u001b[0m",
      "\u001b[0;31mTypeError\u001b[0m: descriptor 'lower' of 'str' object needs an argument"
     ]
    }
   ],
   "source": [
    "sorted(words, key=str.lower() )   # don't do this!"
   ]
  },
  {
   "cell_type": "code",
   "execution_count": 31,
   "metadata": {},
   "outputs": [
    {
     "name": "stdout",
     "output_type": "stream",
     "text": [
      "Now sorting This\n",
      "Now sorting is\n",
      "Now sorting a\n",
      "Now sorting test\n",
      "Now sorting for\n",
      "Now sorting my\n",
      "Now sorting Python\n",
      "Now sorting talk\n",
      "Now sorting for\n",
      "Now sorting ChiPy\n"
     ]
    },
    {
     "data": {
      "text/plain": [
       "['a', 'is', 'my', 'for', 'for', 'This', 'test', 'talk', 'ChiPy', 'Python']"
      ]
     },
     "execution_count": 31,
     "metadata": {},
     "output_type": "execute_result"
    }
   ],
   "source": [
    "def by_loud_len(one_word):\n",
    "    print(f'Now sorting {one_word}')\n",
    "    return len(one_word)\n",
    "\n",
    "sorted(words, key=by_loud_len)"
   ]
  },
  {
   "cell_type": "code",
   "execution_count": 32,
   "metadata": {},
   "outputs": [
    {
     "data": {
      "text/plain": [
       "[4, 6, 10, 50, 80, 200, 300]"
      ]
     },
     "execution_count": 32,
     "metadata": {},
     "output_type": "execute_result"
    }
   ],
   "source": [
    "numbers = [300, 200, 10, 50, 4, 80, 6]\n",
    "sorted(numbers)"
   ]
  },
  {
   "cell_type": "code",
   "execution_count": 33,
   "metadata": {},
   "outputs": [
    {
     "data": {
      "text/plain": [
       "[4, 6, 10, 50, 80, 300, 200]"
      ]
     },
     "execution_count": 33,
     "metadata": {},
     "output_type": "execute_result"
    }
   ],
   "source": [
    "# I want to sort the numbers by their lengths (i.e., number of digits)\n",
    "\n",
    "def by_digit_count(one_number):\n",
    "    return len(str(one_number))\n",
    "\n",
    "sorted(numbers, key=by_digit_count)"
   ]
  },
  {
   "cell_type": "code",
   "execution_count": 34,
   "metadata": {},
   "outputs": [],
   "source": [
    "# Timsort is a stable sort -- if two elements have the same sort value, they\n",
    "# remain in their original order"
   ]
  },
  {
   "cell_type": "code",
   "execution_count": 35,
   "metadata": {},
   "outputs": [
    {
     "data": {
      "text/plain": [
       "[[2, 4, 6], [2, 3, 5], [1, 3, 5], [2, 1, 2], [1, 1, 1], [0, 1, 1], [2, 1, 3]]"
      ]
     },
     "execution_count": 35,
     "metadata": {},
     "output_type": "execute_result"
    }
   ],
   "source": [
    "mylist"
   ]
  },
  {
   "cell_type": "code",
   "execution_count": 36,
   "metadata": {},
   "outputs": [
    {
     "data": {
      "text/plain": [
       "[[0, 1, 1], [1, 1, 1], [2, 1, 2], [2, 1, 3], [1, 3, 5], [2, 3, 5], [2, 4, 6]]"
      ]
     },
     "execution_count": 36,
     "metadata": {},
     "output_type": "execute_result"
    }
   ],
   "source": [
    "# sort mylist's elements by their means\n",
    "\n",
    "def by_mean(one_list):\n",
    "    return sum(one_list) / len(one_list)\n",
    "\n",
    "sorted(mylist, key=by_mean)"
   ]
  },
  {
   "cell_type": "code",
   "execution_count": 37,
   "metadata": {},
   "outputs": [
    {
     "data": {
      "text/plain": [
       "[[0, 1, 1], [1, 1, 1], [1, 3, 5], [2, 1, 2], [2, 1, 3], [2, 3, 5], [2, 4, 6]]"
      ]
     },
     "execution_count": 37,
     "metadata": {},
     "output_type": "execute_result"
    }
   ],
   "source": [
    "sorted(mylist)"
   ]
  },
  {
   "cell_type": "code",
   "execution_count": 38,
   "metadata": {},
   "outputs": [],
   "source": [
    "# sort words by their vowel counts\n",
    "\n",
    "def by_vowel_count(one_word):\n",
    "    count = 0\n",
    "    for one_letter in one_word.lower():\n",
    "        if one_letter in 'aeiou':\n",
    "            count += 1\n",
    "    return count"
   ]
  },
  {
   "cell_type": "code",
   "execution_count": 39,
   "metadata": {},
   "outputs": [
    {
     "data": {
      "text/plain": [
       "3"
      ]
     },
     "execution_count": 39,
     "metadata": {},
     "output_type": "execute_result"
    }
   ],
   "source": [
    "by_vowel_count('elephant')"
   ]
  },
  {
   "cell_type": "code",
   "execution_count": 40,
   "metadata": {},
   "outputs": [],
   "source": [
    "words = 'this is a ridiculous but useful example of vowel counts for my python talk experience'.split()"
   ]
  },
  {
   "cell_type": "code",
   "execution_count": 41,
   "metadata": {},
   "outputs": [
    {
     "data": {
      "text/plain": [
       "['my',\n",
       " 'this',\n",
       " 'is',\n",
       " 'a',\n",
       " 'but',\n",
       " 'of',\n",
       " 'for',\n",
       " 'python',\n",
       " 'talk',\n",
       " 'vowel',\n",
       " 'counts',\n",
       " 'useful',\n",
       " 'example',\n",
       " 'ridiculous',\n",
       " 'experience']"
      ]
     },
     "execution_count": 41,
     "metadata": {},
     "output_type": "execute_result"
    }
   ],
   "source": [
    "sorted(words, key=by_vowel_count)"
   ]
  },
  {
   "cell_type": "code",
   "execution_count": 45,
   "metadata": {},
   "outputs": [
    {
     "data": {
      "text/plain": [
       "['/etc/emond.d',\n",
       " '/etc/xinetd.d-migrated2launchd',\n",
       " '/etc/periodic',\n",
       " '/etc/sudoers.d',\n",
       " '/etc/bash_completion.d',\n",
       " '/etc/ssl',\n",
       " '/etc/kern_loader.conf.applesaved',\n",
       " '/etc/hosts.lpd',\n",
       " '/etc/racoon',\n",
       " '/etc/snmp',\n",
       " '/etc/kern_loader.conf',\n",
       " '/etc/paths.d',\n",
       " '/etc/asl',\n",
       " '/etc/security',\n",
       " '/etc/manpaths.d',\n",
       " '/etc/ppp',\n",
       " '/etc/xinetd.d',\n",
       " '/etc/php-fpm.d',\n",
       " '/etc/rmtab',\n",
       " '/etc/xtab',\n",
       " '/etc/CiscoSystemsVPNClient',\n",
       " '/etc/find.codes~orig',\n",
       " '/etc/newsyslog.d',\n",
       " '/etc/emacs',\n",
       " '/etc/pam.d',\n",
       " '/etc/defaults',\n",
       " '/etc/hosts.equiv',\n",
       " '/etc/find.codes',\n",
       " '/etc/apache2',\n",
       " '/etc/ssh',\n",
       " '/etc/dictionaries-common',\n",
       " '/etc/X11',\n",
       " '/etc/opt',\n",
       " '/etc/kern_loader.conf~previous',\n",
       " '/etc/postfix',\n",
       " '/etc/pf.anchors',\n",
       " '/etc/openldap',\n",
       " '/etc/fonts',\n",
       " '/etc/openssl',\n",
       " '/etc/wfs',\n",
       " '/etc/dumpdates',\n",
       " '/etc/cups',\n",
       " '/etc/resolver',\n",
       " '/etc/nanorc',\n",
       " '/etc/launchd.conf',\n",
       " '/etc/ntp.conf',\n",
       " '/etc/ntp_opendirectory.conf',\n",
       " '/etc/AFP.conf',\n",
       " '/etc/manpaths',\n",
       " '/etc/csh.logout~orig',\n",
       " '/etc/csh.logout',\n",
       " '/etc/nfs.conf',\n",
       " '/etc/nfs.conf~orig',\n",
       " '/etc/ntp.conf.applesaved',\n",
       " '/etc/paths',\n",
       " '/etc/paths~orig',\n",
       " '/etc/slpsa.conf.applesaved',\n",
       " '/etc/slpsa.conf',\n",
       " '/etc/networks~orig',\n",
       " '/etc/networks',\n",
       " '/etc/com.apple.screensharing.agent.launchd',\n",
       " '/etc/syslog.conf',\n",
       " '/etc/syslog.conf~previous',\n",
       " '/etc/mail.rc~orig',\n",
       " '/etc/mail.rc',\n",
       " '/etc/sysctl.conf.pg',\n",
       " '/etc/ftpusers~orig',\n",
       " '/etc/ftpusers',\n",
       " '/etc/csh.login',\n",
       " '/etc/csh.login~orig',\n",
       " '/etc/crontab',\n",
       " '/etc/auto_home',\n",
       " '/etc/fstab.hd~previous',\n",
       " '/etc/fstab.hd',\n",
       " '/etc/shells~orig',\n",
       " '/etc/hostconfig.system_default',\n",
       " '/etc/shells',\n",
       " '/etc/csh.cshrc~orig',\n",
       " '/etc/profile',\n",
       " '/etc/csh.cshrc',\n",
       " '/etc/profile~orig',\n",
       " '/etc/auto_master~orig',\n",
       " '/etc/auto_master',\n",
       " '/etc/hostconfig',\n",
       " '/etc/hosts~orig',\n",
       " '/etc/hosts',\n",
       " '/etc/xinetd.conf.applesaved',\n",
       " '/etc/zprofile',\n",
       " '/etc/sudo_lecture',\n",
       " '/etc/bashrc',\n",
       " '/etc/bashrc~previous',\n",
       " '/etc/fstab',\n",
       " '/etc/crontab.applesaved',\n",
       " '/etc/notify.conf',\n",
       " '/etc/resolv.conf',\n",
       " '/etc/printcap',\n",
       " '/etc/afpovertcp.cfg~orig',\n",
       " '/etc/afpovertcp.cfg',\n",
       " '/etc/locate.rc',\n",
       " '/etc/6to4.conf.applesaved',\n",
       " '/etc/syslog.conf.applesaved',\n",
       " '/etc/rtadvd.conf~previous',\n",
       " '/etc/rtadvd.conf',\n",
       " '/etc/named.conf.applesaved',\n",
       " '/etc/zshrc_Apple_Terminal',\n",
       " '/etc/rtadvd.conf.applesaved',\n",
       " '/etc/pf.conf',\n",
       " '/etc/efax.rc~previous',\n",
       " '/etc/asl.conf',\n",
       " '/etc/postgres-reg.ini',\n",
       " '/etc/ssh_config.applesaved',\n",
       " '/etc/pear.conf-previous',\n",
       " '/etc/irbrc',\n",
       " '/etc/ttys~previous',\n",
       " '/etc/ttys',\n",
       " '/etc/newsyslog.conf',\n",
       " '/etc/ssh_config.system_default',\n",
       " '/etc/rc.common',\n",
       " '/etc/rc.common~previous',\n",
       " '/etc/sudoers',\n",
       " '/etc/sudoers~orig',\n",
       " '/etc/sudoers~',\n",
       " '/etc/smb.conf.applesaved',\n",
       " '/etc/rpc~previous',\n",
       " '/etc/rpc',\n",
       " '/etc/autofs.conf',\n",
       " '/etc/sshd_config.applesaved',\n",
       " '/etc/ttys.applesaved',\n",
       " '/etc/group~previous',\n",
       " '/etc/krb5.keytab',\n",
       " '/etc/inetd.conf.applesaved',\n",
       " '/etc/group',\n",
       " '/etc/smb.conf.old',\n",
       " '/etc/zshrc',\n",
       " '/etc/sshd_config.system_default',\n",
       " '/etc/ssh_config~orig',\n",
       " '/etc/sshd_config~previous',\n",
       " '/etc/man.conf',\n",
       " '/etc/rc.netboot',\n",
       " '/etc/php-fpm.conf.default',\n",
       " '/etc/gettytab',\n",
       " '/etc/gettytab~orig',\n",
       " '/etc/protocols~previous',\n",
       " '/etc/passwd~orig',\n",
       " '/etc/protocols',\n",
       " '/etc/passwd',\n",
       " '/etc/master.passwd~orig',\n",
       " '/etc/master.passwd',\n",
       " '/etc/localtime',\n",
       " '/etc/bashrc_Apple_Terminal',\n",
       " '/etc/aliases',\n",
       " '/etc/aliases.db',\n",
       " '/etc/authorization.user_modified',\n",
       " '/etc/pf.os',\n",
       " '/etc/php.ini.default-5.2-previous~orig',\n",
       " '/etc/php.ini.default-5.2-previous',\n",
       " '/etc/php.ini.default-previous',\n",
       " '/etc/php.ini.default',\n",
       " '/etc/php.ini.default-previous~orig',\n",
       " '/etc/moduli~previous',\n",
       " '/etc/authorization.deprecated',\n",
       " '/etc/services~previous',\n",
       " '/etc/services']"
      ]
     },
     "execution_count": 45,
     "metadata": {},
     "output_type": "execute_result"
    }
   ],
   "source": [
    "# sort filenames in a directory listing by file size\n",
    "\n",
    "import glob\n",
    "import os.path\n",
    "\n",
    "def by_file_length(filename):\n",
    "    if os.path.isfile(filename):\n",
    "        return os.stat(filename).st_size\n",
    "    else:\n",
    "        return 0\n",
    "\n",
    "sorted(glob.glob('/etc/*'), key=by_file_length)"
   ]
  },
  {
   "cell_type": "code",
   "execution_count": 47,
   "metadata": {
    "collapsed": true
   },
   "outputs": [
    {
     "name": "stdout",
     "output_type": "stream",
     "text": [
      "total 1500\r\n",
      "-rw-r--r--  1 root wheel    753 Jan 23  2007 6to4.conf.applesaved\r\n",
      "-rw-------  1 root wheel     24 Jul  3  2013 AFP.conf\r\n",
      "lrwxr-xr-x  1 root wheel     24 Aug 24  2012 CiscoSystemsVPNClient -> /etc/opt/cisco-vpnclient\r\n",
      "lrwxr-xr-x  1 root wheel     14 Aug 24  2012 X11 -> /usr/X11R6/etc\r\n",
      "-rw-r--r--  1 root wheel    515 Dec 14  2019 afpovertcp.cfg\r\n",
      "-rw-r--r--  1 root wheel    515 Aug 18  2018 afpovertcp.cfg~orig\r\n",
      "lrwxr-xr-x  1 root wheel     15 Jan 23  2020 aliases -> postfix/aliases\r\n",
      "-rw-r-----  1 root wheel  16384 Dec 14  2019 aliases.db\r\n",
      "drwxr-xr-x 14 root wheel    448 Aug 27 09:04 apache2\r\n",
      "drwxr-xr-x 22 root wheel    704 Aug 27 09:03 asl\r\n",
      "-rw-r--r--  1 root wheel   1051 Dec 14  2019 asl.conf\r\n",
      "-rw-r--r--  1 root wheel 384298 Sep 19  2013 authorization.deprecated\r\n",
      "-rw-r--r--  1 root wheel  18621 Jun 27  2007 authorization.user_modified\r\n",
      "-rw-r--r--  1 root wheel    149 Jan 10  2020 auto_home\r\n",
      "-rw-r--r--  1 root wheel    195 Jan 10  2020 auto_master\r\n",
      "-rw-r--r--  1 root wheel    194 Aug 23  2018 auto_master~orig\r\n",
      "-rw-r--r--  1 root wheel   1935 Jan 10  2020 autofs.conf\r\n",
      "-rwxrwxrwx  1 root wheel      0 Dec 17  2017 bash_completion.d\r\n",
      "-r--r--r--  1 root wheel    265 Dec 14  2019 bashrc\r\n",
      "-rw-r--r--  1 root wheel   9192 Dec 14  2019 bashrc_Apple_Terminal\r\n",
      "-r--r--r--  1 root wheel    265 Jul 16  2017 bashrc~previous\r\n",
      "-rw-r--r--  1 root wheel     82 Dec 23  2019 com.apple.screensharing.agent.launchd\r\n",
      "-rw-r--r--  1 root wheel    137 Oct 21  2007 crontab\r\n",
      "-r--r--r--  1 root wheel    296 Jan 23  2007 crontab.applesaved\r\n",
      "-rw-r--r--  1 root wheel    189 Dec 14  2019 csh.cshrc\r\n",
      "-rw-r--r--  1 root wheel    189 Aug 18  2018 csh.cshrc~orig\r\n",
      "-rw-r--r--  1 root wheel    121 Dec 14  2019 csh.login\r\n",
      "-rw-r--r--  1 root wheel    121 Aug 18  2018 csh.login~orig\r\n",
      "-rw-r--r--  1 root wheel     39 Dec 14  2019 csh.logout\r\n",
      "-rw-r--r--  1 root wheel     39 Aug 18  2018 csh.logout~orig\r\n",
      "drwxr-xr-x 20 root _lp      640 Aug 27 09:05 cups\r\n",
      "drwxr-xr-x  3 root wheel     96 Dec 14  2019 defaults\r\n",
      "drwxr-xr-x  3 root wheel     96 Oct  5  2018 dictionaries-common\r\n",
      "-rw-r--r--  1 root wheel      0 Jun 28  2007 dumpdates\r\n",
      "-rw-r--r--  1 root wheel   1029 Aug 23  2015 efax.rc~previous\r\n",
      "drwxr-xr-x  3 root wheel     96 Oct  5  2018 emacs\r\n",
      "drwxr-xr-x  4 root wheel    128 Dec 14  2019 emond.d\r\n",
      "-rw-r--r--  1 root wheel      0 Dec 14  2019 find.codes\r\n",
      "-rw-r--r--  1 root wheel      0 Aug 18  2018 find.codes~orig\r\n",
      "drwxr-xr-x  4 root wheel    128 Oct  5  2018 fonts\r\n",
      "-rw-r--r--  1 root wheel    293 Dec  9  2003 fstab\r\n",
      "-rw-r--r--  1 root wheel    150 Dec 14  2019 fstab.hd\r\n",
      "-rw-r--r--  1 root wheel    150 Jul 26  2017 fstab.hd~previous\r\n",
      "-rw-r--r--  1 root wheel    119 Dec 14  2019 ftpusers\r\n",
      "-rw-r--r--  1 root wheel    119 Aug 18  2018 ftpusers~orig\r\n",
      "-rw-r--r--  1 root wheel   5678 Dec 14  2019 gettytab\r\n",
      "-rw-r--r--  1 root wheel   5678 Aug 18  2018 gettytab~orig\r\n",
      "-rw-r--r--  1 root wheel   2922 Dec 14  2019 group\r\n",
      "-rw-r--r--  1 root wheel   2769 Jul 26  2017 group~previous\r\n",
      "-rw-r--r--  1 root wheel    201 Jul  6  2010 hostconfig\r\n",
      "-rw-r--r--  1 root wheel    185 Oct  2  2007 hostconfig.system_default\r\n",
      "-rw-r--r--  1 root wheel    220 Jun 24  2019 hosts\r\n",
      "-rw-r--r--  1 root wheel      0 Dec 14  2019 hosts.equiv\r\n",
      "-rw-r--r--  1 root wheel      0 Dec  9  2003 hosts.lpd\r\n",
      "-rw-r--r--  1 root wheel    213 Aug 18  2018 hosts~orig\r\n",
      "-rw-r--r--  1 root wheel   2893 Jan 23  2007 inetd.conf.applesaved\r\n",
      "-r--r--r--  1 root wheel   1299 Dec 14  2019 irbrc\r\n",
      "-rw-r--r--  1 root wheel      0 Dec 14  2019 kern_loader.conf\r\n",
      "-rw-r--r--  1 root wheel      0 Jan 23  2007 kern_loader.conf.applesaved\r\n",
      "-rw-r--r--  1 root wheel      0 Jul 26  2017 kern_loader.conf~previous\r\n",
      "-rw-------  1 root wheel   2800 Aug 27 09:10 krb5.keytab\r\n",
      "-rw-r--r--  1 root wheel     19 Jun  1  2009 launchd.conf\r\n",
      "lrwxr-xr-x  1 root wheel     40 Aug 27 09:04 localtime -> /var/db/timezone/zoneinfo/Asia/Jerusalem\r\n",
      "-rw-r--r--  1 root wheel    621 Dec 14  2019 locate.rc\r\n",
      "-rw-r--r--  1 root wheel    106 Dec 14  2019 mail.rc\r\n",
      "-rw-r--r--  1 root wheel    106 Aug 18  2018 mail.rc~orig\r\n",
      "-rw-r--r--  1 root wheel   4627 Dec 14  2019 man.conf\r\n",
      "-rw-r--r--  1 root wheel     36 Dec 14  2019 manpaths\r\n",
      "drwxr-xr-x  4 root wheel    128 Aug 27 09:04 manpaths.d\r\n",
      "-rw-------  1 root wheel   7446 Dec 14  2019 master.passwd\r\n",
      "-rw-------  1 root wheel   7294 Aug 18  2018 master.passwd~orig\r\n",
      "-rw-r--r--  1 root wheel 242153 Dec 12  2013 moduli~previous\r\n",
      "-rw-r--r--  1 root wheel    905 Jan 23  2007 named.conf.applesaved\r\n",
      "-rw-r--r--  1 root wheel     11 Dec 14  2019 nanorc\r\n",
      "-rw-r--r--  1 root wheel     53 Dec 14  2019 networks\r\n",
      "-rw-r--r--  1 root wheel     53 Aug 18  2018 networks~orig\r\n",
      "-rw-r--r--  1 root wheel   1318 Dec 14  2019 newsyslog.conf\r\n",
      "drwxr-xr-x  7 root wheel    224 Jan 23  2020 newsyslog.d\r\n",
      "-rw-r--r--  1 root wheel     43 Dec 14  2019 nfs.conf\r\n",
      "-rw-r--r--  1 root wheel     43 Aug 18  2018 nfs.conf~orig\r\n",
      "-rw-r--r--  1 root wheel    351 Dec 14  2019 notify.conf\r\n",
      "-rw-r--r--  1 root wheel     22 Jul  3  2013 ntp.conf\r\n",
      "-rw-r--r--  1 root wheel     44 Jan 23  2007 ntp.conf.applesaved\r\n",
      "-rw-r--r--  1 root wheel     23 Dec 14  2019 ntp_opendirectory.conf\r\n",
      "drwxr-xr-x  9 root wheel    288 Aug 27 09:04 openldap\r\n",
      "drwxr-xr-x  3 root wheel     96 Oct  5  2018 openssl\r\n",
      "drwxr-xr-x  3 root wheel     96 Oct  5  2018 opt\r\n",
      "drwxr-xr-x 22 root wheel    704 Jan 23  2020 pam.d\r\n",
      "-rw-r--r--  1 root wheel   6946 Dec 14  2019 passwd\r\n",
      "-rw-r--r--  1 root wheel   6393 Jul 30  2016 passwd~orig\r\n",
      "-rw-r--r--  1 root wheel     45 Dec 14  2019 paths\r\n",
      "drwxr-xr-x  5 root wheel    160 Aug 27 09:04 paths.d\r\n",
      "-rw-r--r--  1 root wheel     45 Aug 18  2018 paths~orig\r\n",
      "-rw-r--r--  1 root wheel   1208 Jul 19  2009 pear.conf-previous\r\n",
      "drwxr-xr-x  5 root wheel    160 Dec 14  2019 periodic\r\n",
      "drwxr-xr-x  3 root wheel     96 Dec 14  2019 pf.anchors\r\n",
      "-rw-r--r--  1 root wheel   1027 Dec 14  2019 pf.conf\r\n",
      "-rw-r--r--  1 root wheel  28311 Dec 14  2019 pf.os\r\n",
      "-rw-r--r--  1 root wheel   5331 Dec 14  2019 php-fpm.conf.default\r\n",
      "drwxr-xr-x  3 root wheel     96 Dec 14  2019 php-fpm.d\r\n",
      "-r--r--r--  1 root wheel  71890 Dec 14  2019 php.ini.default\r\n",
      "-r--r--r--  1 root wheel  69266 Feb 26  2015 php.ini.default-5.2-previous\r\n",
      "-r--r--r--  1 root wheel  65459 Sep 20  2014 php.ini.default-5.2-previous~orig\r\n",
      "-r--r--r--  1 root wheel  71055 Mar 31  2018 php.ini.default-previous\r\n",
      "-r--r--r--  1 root wheel  73685 Feb  8  2017 php.ini.default-previous~orig\r\n",
      "drwxr-xr-x 34 root wheel   1088 Aug 27 09:04 postfix\r\n",
      "-rw-r--r--  1 root wheel   1101 Sep 27  2010 postgres-reg.ini\r\n",
      "drwxr-xr-x  2 root wheel     64 Jan 10  2020 ppp\r\n",
      "-rw-r--r--  1 root wheel    452 Nov 13  2007 printcap\r\n",
      "-r--r--r--  1 root wheel    189 Dec 14  2019 profile\r\n",
      "-r--r--r--  1 root wheel    189 Aug 18  2018 profile~orig\r\n",
      "-rw-r--r--  1 root wheel   6393 Dec 14  2019 protocols\r\n",
      "-rw-r--r--  1 root wheel   6393 Jul 26  2017 protocols~previous\r\n",
      "drwxr-xr-x  4 root wheel    128 Jan  8  2020 racoon\r\n",
      "-rw-r--r--  1 root wheel   1560 Dec 14  2019 rc.common\r\n",
      "-rw-r--r--  1 root wheel   1560 Aug  1  2017 rc.common~previous\r\n",
      "-rw-r--r--  1 root wheel   5264 Jan  6  2020 rc.netboot\r\n",
      "lrwxr-xr-x  1 root wheel     22 Jan 23  2020 resolv.conf -> ../var/run/resolv.conf\r\n",
      "drwxr-xr-x  3 root wheel     96 Oct  5  2018 resolver\r\n",
      "-rw-r--r--  1 root wheel      0 Dec 14  2019 rmtab\r\n",
      "-rw-r--r--  1 root wheel   1735 Dec 14  2019 rpc\r\n",
      "-rw-r--r--  1 root wheel   1735 Jul 26  2017 rpc~previous\r\n",
      "-rw-r--r--  1 root wheel    891 Jan 10  2020 rtadvd.conf\r\n",
      "-rw-r--r--  1 root wheel    983 Jan 23  2007 rtadvd.conf.applesaved\r\n",
      "-rw-r--r--  1 root wheel    891 Aug 25  2017 rtadvd.conf~previous\r\n",
      "drwxr-xr-x  7 root wheel    224 Dec 14  2019 security\r\n",
      "-rw-r--r--  1 root wheel 677972 Dec 14  2019 services\r\n",
      "-rw-r--r--  1 root wheel 677972 Jul 26  2017 services~previous\r\n",
      "-rw-r--r--  1 root wheel    189 Feb  9  2017 shells\r\n",
      "-rw-r--r--  1 root wheel    179 Aug 18  2018 shells~orig\r\n",
      "-rw-r--r--  1 root wheel     52 Mar 16  2005 slpsa.conf\r\n",
      "-rw-r--r--  1 root wheel     52 Jan 23  2007 slpsa.conf.applesaved\r\n",
      "-r--r--r--  1 root wheel   1699 Jan 23  2007 smb.conf.applesaved\r\n",
      "-rw-r--r--  1 root wheel   2975 Jun 16  2010 smb.conf.old\r\n",
      "drwxr-xr-x  4 root wheel    128 Dec 14  2019 snmp\r\n",
      "drwxr-xr-x 16 root wheel    512 Aug 27 09:04 ssh\r\n",
      "-rw-r--r--  1 root wheel   1144 Jan 23  2007 ssh_config.applesaved\r\n",
      "-rw-r--r--  1 root wheel   1465 Sep 24  2007 ssh_config.system_default\r\n",
      "-rw-r--r--  1 root wheel   3847 Sep 10  2014 ssh_config~orig\r\n",
      "-rw-r--r--  1 root wheel   2409 Jan 23  2007 sshd_config.applesaved\r\n",
      "-rw-r--r--  1 root wheel   3362 Sep 24  2007 sshd_config.system_default\r\n",
      "-rw-r--r--  1 root wheel   4161 Dec 12  2013 sshd_config~previous\r\n",
      "drwxr-xr-x  6 root wheel    192 Dec 14  2019 ssl\r\n",
      "-r--r-----  1 root wheel    257 Jan  8  2020 sudo_lecture\r\n",
      "-r--r-----  1 root wheel   1563 Jan  8  2020 sudoers\r\n",
      "drwxr-xr-x  2 root wheel     64 Jan  8  2020 sudoers.d\r\n",
      "-r--r-----  1 root wheel   1627 Jun  1  2009 sudoers~\r\n",
      "-r--r-----  1 root wheel   1563 Aug 18  2018 sudoers~orig\r\n",
      "-rw-r--r--  1 root wheel    106 Apr 22  2009 sysctl.conf.pg\r\n",
      "-rw-r--r--  1 root wheel     96 Dec 14  2019 syslog.conf\r\n",
      "-rw-r--r--  1 root wheel    823 Jan 23  2007 syslog.conf.applesaved\r\n",
      "-rw-r--r--  1 root wheel     96 Jul 22  2017 syslog.conf~previous\r\n",
      "-rw-r--r--  1 root wheel   1316 Dec 14  2019 ttys\r\n",
      "-rw-r--r--  1 root wheel   2442 Jan 23  2007 ttys.applesaved\r\n",
      "-rw-r--r--  1 root wheel   1316 Jul 26  2017 ttys~previous\r\n",
      "drwxr-xr-x  6 root wheel    192 Dec 14  2019 wfs\r\n",
      "-rw-r--r--  1 root wheel    238 Jan 23  2007 xinetd.conf.applesaved\r\n",
      "drwxr-xr-x 11 root wheel    352 Oct  5  2018 xinetd.d\r\n",
      "drwxr-xr-x 18 root wheel    576 Oct  5  2018 xinetd.d-migrated2launchd\r\n",
      "-rw-r--r--  1 root wheel      0 Dec 14  2019 xtab\r\n",
      "-r--r--r--  1 root wheel    255 Dec 14  2019 zprofile\r\n",
      "-r--r--r--  1 root wheel   3094 Feb 29 08:58 zshrc\r\n",
      "-rw-r--r--  1 root wheel    911 Dec 14  2019 zshrc_Apple_Terminal\r\n"
     ]
    }
   ],
   "source": [
    "!ls -l /etc/"
   ]
  },
  {
   "cell_type": "code",
   "execution_count": 48,
   "metadata": {
    "collapsed": true
   },
   "outputs": [
    {
     "data": {
      "text/plain": [
       "['/etc/emond.d',\n",
       " '/etc/xinetd.d-migrated2launchd',\n",
       " '/etc/periodic',\n",
       " '/etc/krb5.keytab',\n",
       " '/etc/sudoers.d',\n",
       " '/etc/bash_completion.d',\n",
       " '/etc/ssl',\n",
       " '/etc/kern_loader.conf.applesaved',\n",
       " '/etc/aliases.db',\n",
       " '/etc/hosts.lpd',\n",
       " '/etc/racoon',\n",
       " '/etc/snmp',\n",
       " '/etc/master.passwd~orig',\n",
       " '/etc/kern_loader.conf',\n",
       " '/etc/paths.d',\n",
       " '/etc/asl',\n",
       " '/etc/security',\n",
       " '/etc/sudoers~',\n",
       " '/etc/manpaths.d',\n",
       " '/etc/ppp',\n",
       " '/etc/xinetd.d',\n",
       " '/etc/php-fpm.d',\n",
       " '/etc/rmtab',\n",
       " '/etc/xtab',\n",
       " '/etc/localtime',\n",
       " '/etc/CiscoSystemsVPNClient',\n",
       " '/etc/sudoers',\n",
       " '/etc/find.codes~orig',\n",
       " '/etc/newsyslog.d',\n",
       " '/etc/emacs',\n",
       " '/etc/pam.d',\n",
       " '/etc/defaults',\n",
       " '/etc/hosts.equiv',\n",
       " '/etc/find.codes',\n",
       " '/etc/apache2',\n",
       " '/etc/ssh',\n",
       " '/etc/dictionaries-common',\n",
       " '/etc/sudoers~orig',\n",
       " '/etc/sudo_lecture',\n",
       " '/etc/X11',\n",
       " '/etc/opt',\n",
       " '/etc/kern_loader.conf~previous',\n",
       " '/etc/postfix',\n",
       " '/etc/pf.anchors',\n",
       " '/etc/master.passwd',\n",
       " '/etc/openldap',\n",
       " '/etc/fonts',\n",
       " '/etc/openssl',\n",
       " '/etc/wfs',\n",
       " '/etc/dumpdates',\n",
       " '/etc/AFP.conf',\n",
       " '/etc/cups',\n",
       " '/etc/resolver',\n",
       " '/etc/nanorc',\n",
       " '/etc/com.apple.screensharing.agent.launchd',\n",
       " '/etc/launchd.conf',\n",
       " '/etc/ntp_opendirectory.conf',\n",
       " '/etc/ntp.conf',\n",
       " '/etc/csh.logout~orig',\n",
       " '/etc/csh.logout',\n",
       " '/etc/manpaths',\n",
       " '/etc/paths',\n",
       " '/etc/nfs.conf',\n",
       " '/etc/nfs.conf~orig',\n",
       " '/etc/paths~orig',\n",
       " '/etc/sysctl.conf.pg',\n",
       " '/etc/ntp.conf.applesaved',\n",
       " '/etc/slpsa.conf.applesaved',\n",
       " '/etc/slpsa.conf',\n",
       " '/etc/networks~orig',\n",
       " '/etc/networks',\n",
       " '/etc/syslog.conf',\n",
       " '/etc/syslog.conf~previous',\n",
       " '/etc/csh.cshrc~orig',\n",
       " '/etc/csh.cshrc',\n",
       " '/etc/csh.login',\n",
       " '/etc/csh.login~orig',\n",
       " '/etc/ftpusers~orig',\n",
       " '/etc/ftpusers',\n",
       " '/etc/mail.rc~orig',\n",
       " '/etc/mail.rc',\n",
       " '/etc/profile',\n",
       " '/etc/profile~orig',\n",
       " '/etc/shells~orig',\n",
       " '/etc/crontab',\n",
       " '/etc/shells',\n",
       " '/etc/xinetd.conf.applesaved',\n",
       " '/etc/auto_home',\n",
       " '/etc/fstab.hd~previous',\n",
       " '/etc/hosts~orig',\n",
       " '/etc/fstab',\n",
       " '/etc/hosts',\n",
       " '/etc/fstab.hd',\n",
       " '/etc/hostconfig.system_default',\n",
       " '/etc/bashrc',\n",
       " '/etc/hostconfig',\n",
       " '/etc/bashrc~previous',\n",
       " '/etc/auto_master',\n",
       " '/etc/auto_master~orig',\n",
       " '/etc/crontab.applesaved',\n",
       " '/etc/zprofile',\n",
       " '/etc/printcap',\n",
       " '/etc/resolv.conf',\n",
       " '/etc/notify.conf',\n",
       " '/etc/afpovertcp.cfg~orig',\n",
       " '/etc/afpovertcp.cfg',\n",
       " '/etc/locate.rc',\n",
       " '/etc/6to4.conf.applesaved',\n",
       " '/etc/zshrc_Apple_Terminal',\n",
       " '/etc/pear.conf-previous',\n",
       " '/etc/syslog.conf.applesaved',\n",
       " '/etc/named.conf.applesaved',\n",
       " '/etc/rtadvd.conf~previous',\n",
       " '/etc/rtadvd.conf',\n",
       " '/etc/efax.rc~previous',\n",
       " '/etc/rtadvd.conf.applesaved',\n",
       " '/etc/rpc~previous',\n",
       " '/etc/rpc',\n",
       " '/etc/asl.conf',\n",
       " '/etc/pf.conf',\n",
       " '/etc/rc.common',\n",
       " '/etc/rc.common~previous',\n",
       " '/etc/postgres-reg.ini',\n",
       " '/etc/newsyslog.conf',\n",
       " '/etc/ssh_config.applesaved',\n",
       " '/etc/ttys~previous',\n",
       " '/etc/ttys',\n",
       " '/etc/irbrc',\n",
       " '/etc/ssh_config.system_default',\n",
       " '/etc/smb.conf.applesaved',\n",
       " '/etc/zshrc',\n",
       " '/etc/ttys.applesaved',\n",
       " '/etc/group~previous',\n",
       " '/etc/autofs.conf',\n",
       " '/etc/group',\n",
       " '/etc/sshd_config.applesaved',\n",
       " '/etc/inetd.conf.applesaved',\n",
       " '/etc/smb.conf.old',\n",
       " '/etc/ssh_config~orig',\n",
       " '/etc/sshd_config.system_default',\n",
       " '/etc/gettytab',\n",
       " '/etc/gettytab~orig',\n",
       " '/etc/rc.netboot',\n",
       " '/etc/man.conf',\n",
       " '/etc/sshd_config~previous',\n",
       " '/etc/php-fpm.conf.default',\n",
       " '/etc/protocols~previous',\n",
       " '/etc/protocols',\n",
       " '/etc/passwd~orig',\n",
       " '/etc/passwd',\n",
       " '/etc/bashrc_Apple_Terminal',\n",
       " '/etc/aliases',\n",
       " '/etc/authorization.user_modified',\n",
       " '/etc/pf.os',\n",
       " '/etc/php.ini.default-5.2-previous~orig',\n",
       " '/etc/php.ini.default-5.2-previous',\n",
       " '/etc/php.ini.default-previous',\n",
       " '/etc/php.ini.default',\n",
       " '/etc/php.ini.default-previous~orig',\n",
       " '/etc/moduli~previous',\n",
       " '/etc/authorization.deprecated',\n",
       " '/etc/services~previous',\n",
       " '/etc/services']"
      ]
     },
     "execution_count": 48,
     "metadata": {},
     "output_type": "execute_result"
    }
   ],
   "source": [
    "# sort our filenames by the number of vowels in each file\n",
    "\n",
    "def by_vowels_in_file(filename):\n",
    "    count = 0\n",
    "\n",
    "    try:\n",
    "        for one_line in open(filename):\n",
    "            for one_character in one_line.lower():\n",
    "                if one_character in 'aeiou':\n",
    "                    count += 1\n",
    "    except:\n",
    "        pass\n",
    "    return count\n",
    "\n",
    "sorted(glob.glob('/etc/*'), key=by_vowels_in_file)"
   ]
  },
  {
   "cell_type": "code",
   "execution_count": 51,
   "metadata": {},
   "outputs": [],
   "source": [
    "# sorting a list of dicts\n",
    "\n",
    "people =   [{'first': 'Atara', 'last': 'Lerner-Friedman', 'age': 19},\n",
    "   {'first': 'Shikma', 'last': 'Lerner-Friedman', 'age': 17},\n",
    "   {'first': 'Amotz', 'last': 'Lerner-Friedman', 'age': 14},\n",
    "   {'first': 'Reuven', 'last': 'Lerner', 'age': 50}\n",
    "  ]\n"
   ]
  },
  {
   "cell_type": "code",
   "execution_count": 52,
   "metadata": {},
   "outputs": [
    {
     "ename": "TypeError",
     "evalue": "'<' not supported between instances of 'dict' and 'dict'",
     "output_type": "error",
     "traceback": [
      "\u001b[0;31m---------------------------------------------------------------------------\u001b[0m",
      "\u001b[0;31mTypeError\u001b[0m                                 Traceback (most recent call last)",
      "\u001b[0;32m<ipython-input-52-2e56109f3fb1>\u001b[0m in \u001b[0;36m<module>\u001b[0;34m\u001b[0m\n\u001b[0;32m----> 1\u001b[0;31m \u001b[0msorted\u001b[0m\u001b[0;34m(\u001b[0m\u001b[0mpeople\u001b[0m\u001b[0;34m)\u001b[0m\u001b[0;34m\u001b[0m\u001b[0;34m\u001b[0m\u001b[0m\n\u001b[0m",
      "\u001b[0;31mTypeError\u001b[0m: '<' not supported between instances of 'dict' and 'dict'"
     ]
    }
   ],
   "source": [
    "sorted(people)"
   ]
  },
  {
   "cell_type": "code",
   "execution_count": 53,
   "metadata": {},
   "outputs": [
    {
     "data": {
      "text/plain": [
       "[{'first': 'Amotz', 'last': 'Lerner-Friedman', 'age': 14},\n",
       " {'first': 'Shikma', 'last': 'Lerner-Friedman', 'age': 17},\n",
       " {'first': 'Atara', 'last': 'Lerner-Friedman', 'age': 19},\n",
       " {'first': 'Reuven', 'last': 'Lerner', 'age': 50}]"
      ]
     },
     "execution_count": 53,
     "metadata": {},
     "output_type": "execute_result"
    }
   ],
   "source": [
    "def by_age(one_person):\n",
    "    return one_person['age']\n",
    "\n",
    "sorted(people, key=by_age)"
   ]
  },
  {
   "cell_type": "code",
   "execution_count": 55,
   "metadata": {},
   "outputs": [
    {
     "data": {
      "text/plain": [
       "[{'first': 'Reuven', 'last': 'Lerner', 'age': 50},\n",
       " {'first': 'Atara', 'last': 'Lerner-Friedman', 'age': 19},\n",
       " {'first': 'Shikma', 'last': 'Lerner-Friedman', 'age': 17},\n",
       " {'first': 'Amotz', 'last': 'Lerner-Friedman', 'age': 14}]"
      ]
     },
     "execution_count": 55,
     "metadata": {},
     "output_type": "execute_result"
    }
   ],
   "source": [
    "def by_last_name(one_person):\n",
    "    return one_person['last']\n",
    "\n",
    "sorted(people, key=by_last_name)"
   ]
  },
  {
   "cell_type": "code",
   "execution_count": 56,
   "metadata": {},
   "outputs": [
    {
     "data": {
      "text/plain": [
       "[{'first': 'Reuven', 'last': 'Lerner', 'age': 50},\n",
       " {'first': 'Amotz', 'last': 'Lerner-Friedman', 'age': 14},\n",
       " {'first': 'Atara', 'last': 'Lerner-Friedman', 'age': 19},\n",
       " {'first': 'Shikma', 'last': 'Lerner-Friedman', 'age': 17}]"
      ]
     },
     "execution_count": 56,
     "metadata": {},
     "output_type": "execute_result"
    }
   ],
   "source": [
    "# sort by last name and then first name...\n",
    "\n",
    "def by_last_first(one_person):\n",
    "    return one_person['last'], one_person['first']\n",
    "\n",
    "sorted(people, key=by_last_first)"
   ]
  },
  {
   "cell_type": "code",
   "execution_count": 57,
   "metadata": {},
   "outputs": [
    {
     "data": {
      "text/plain": [
       "[{'first': 'Amotz', 'last': 'Lerner-Friedman', 'age': 14},\n",
       " {'first': 'Shikma', 'last': 'Lerner-Friedman', 'age': 17},\n",
       " {'first': 'Atara', 'last': 'Lerner-Friedman', 'age': 19},\n",
       " {'first': 'Reuven', 'last': 'Lerner', 'age': 50}]"
      ]
     },
     "execution_count": 57,
     "metadata": {},
     "output_type": "execute_result"
    }
   ],
   "source": [
    "# sort by age, with lambda!\n",
    "sorted(people, key=lambda one_person: one_person['age'])"
   ]
  },
  {
   "cell_type": "code",
   "execution_count": 59,
   "metadata": {},
   "outputs": [
    {
     "data": {
      "text/plain": [
       "[{'first': 'Reuven', 'last': 'Lerner', 'age': 50},\n",
       " {'first': 'Amotz', 'last': 'Lerner-Friedman', 'age': 14},\n",
       " {'first': 'Atara', 'last': 'Lerner-Friedman', 'age': 19},\n",
       " {'first': 'Shikma', 'last': 'Lerner-Friedman', 'age': 17}]"
      ]
     },
     "execution_count": 59,
     "metadata": {},
     "output_type": "execute_result"
    }
   ],
   "source": [
    "# sort by age, with lambda!\n",
    "sorted(people, key=lambda one_person: (one_person['last'], one_person['first']))"
   ]
  },
  {
   "cell_type": "code",
   "execution_count": null,
   "metadata": {},
   "outputs": [],
   "source": [
    "# operator\n",
    "\n",
    "import operator\n",
    "\n",
    "sorted(people, key=operator.itemgetter('age'))"
   ]
  }
 ],
 "metadata": {
  "kernelspec": {
   "display_name": "Python 3",
   "language": "python",
   "name": "python3"
  },
  "language_info": {
   "codemirror_mode": {
    "name": "ipython",
    "version": 3
   },
   "file_extension": ".py",
   "mimetype": "text/x-python",
   "name": "python",
   "nbconvert_exporter": "python",
   "pygments_lexer": "ipython3",
   "version": "3.8.5"
  }
 },
 "nbformat": 4,
 "nbformat_minor": 4
}
