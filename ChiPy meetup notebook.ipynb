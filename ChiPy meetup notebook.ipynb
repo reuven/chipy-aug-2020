{
 "cells": [
  {
   "cell_type": "markdown",
   "metadata": {},
   "source": [
    "# Reuven Lerner, \"How to sort anything\"\n",
    "\n",
    "- https://lerner.co.il\n",
    "- \n",
    "- https://twitter.com/reuvenmlerner\n",
    "- https://youtube.com/reuvenlerner\n",
    "\n",
    "\n",
    "Follow along\n",
    "\n",
    "# https://github.com/reuven/chipy-aug-2020"
   ]
  }
 ],
 "metadata": {
  "kernelspec": {
   "display_name": "Python 3",
   "language": "python",
   "name": "python3"
  },
  "language_info": {
   "codemirror_mode": {
    "name": "ipython",
    "version": 3
   },
   "file_extension": ".py",
   "mimetype": "text/x-python",
   "name": "python",
   "nbconvert_exporter": "python",
   "pygments_lexer": "ipython3",
   "version": "3.8.5"
  }
 },
 "nbformat": 4,
 "nbformat_minor": 4
}
